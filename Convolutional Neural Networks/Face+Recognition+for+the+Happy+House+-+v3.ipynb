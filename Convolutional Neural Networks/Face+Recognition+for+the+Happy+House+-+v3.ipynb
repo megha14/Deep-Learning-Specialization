{
 "cells": [
  {
   "cell_type": "markdown",
   "metadata": {},
   "source": [
    "# Face Recognition for the Happy House\n",
    "\n",
    "Welcome to the first assignment of week 4! Here you will build a face recognition system. Many of the ideas presented here are from [FaceNet](https://arxiv.org/pdf/1503.03832.pdf). In lecture, we also talked about [DeepFace](https://research.fb.com/wp-content/uploads/2016/11/deepface-closing-the-gap-to-human-level-performance-in-face-verification.pdf). \n",
    "\n",
    "Face recognition problems commonly fall into two categories: \n",
    "\n",
    "- **Face Verification** - \"is this the claimed person?\". For example, at some airports, you can pass through customs by letting a system scan your passport and then verifying that you (the person carrying the passport) are the correct person. A mobile phone that unlocks using your face is also using face verification. This is a 1:1 matching problem. \n",
    "- **Face Recognition** - \"who is this person?\". For example, the video lecture showed a face recognition video (https://www.youtube.com/watch?v=wr4rx0Spihs) of Baidu employees entering the office without needing to otherwise identify themselves. This is a 1:K matching problem. \n",
    "\n",
    "FaceNet learns a neural network that encodes a face image into a vector of 128 numbers. By comparing two such vectors, you can then determine if two pictures are of the same person.\n",
    "    \n",
    "**In this assignment, you will:**\n",
    "- Implement the triplet loss function\n",
    "- Use a pretrained model to map face images into 128-dimensional encodings\n",
    "- Use these encodings to perform face verification and face recognition\n",
    "\n",
    "In this exercise, we will be using a pre-trained model which represents ConvNet activations using a \"channels first\" convention, as opposed to the \"channels last\" convention used in lecture and previous programming assignments. In other words, a batch of images will be of shape $(m, n_C, n_H, n_W)$ instead of $(m, n_H, n_W, n_C)$. Both of these conventions have a reasonable amount of traction among open-source implementations; there isn't a uniform standard yet within the deep learning community. \n",
    "\n",
    "Let's load the required packages. \n"
   ]
  },
  {
   "cell_type": "code",
   "execution_count": 1,
   "metadata": {},
   "outputs": [
    {
     "name": "stderr",
     "output_type": "stream",
     "text": [
      "Using TensorFlow backend.\n"
     ]
    }
   ],
   "source": [
    "from keras.models import Sequential\n",
    "from keras.layers import Conv2D, ZeroPadding2D, Activation, Input, concatenate\n",
    "from keras.models import Model\n",
    "from keras.layers.normalization import BatchNormalization\n",
    "from keras.layers.pooling import MaxPooling2D, AveragePooling2D\n",
    "from keras.layers.merge import Concatenate\n",
    "from keras.layers.core import Lambda, Flatten, Dense\n",
    "from keras.initializers import glorot_uniform\n",
    "from keras.engine.topology import Layer\n",
    "from keras import backend as K\n",
    "K.set_image_data_format('channels_first')\n",
    "import cv2\n",
    "import os\n",
    "import numpy as np\n",
    "from numpy import genfromtxt\n",
    "import pandas as pd\n",
    "import tensorflow as tf\n",
    "from fr_utils import *\n",
    "from inception_blocks_v2 import *\n",
    "\n",
    "%matplotlib inline\n",
    "%load_ext autoreload\n",
    "%autoreload 2\n",
    "\n",
    "np.set_printoptions(threshold=np.nan)"
   ]
  },
  {
   "cell_type": "markdown",
   "metadata": {},
   "source": [
    "## 0 - Naive Face Verification\n",
    "\n",
    "In Face Verification, you're given two images and you have to tell if they are of the same person. The simplest way to do this is to compare the two images pixel-by-pixel. If the distance between the raw images are less than a chosen threshold, it may be the same person! \n",
    "\n",
    "<img src=\"images/pixel_comparison.png\" style=\"width:380px;height:150px;\">\n",
    "<caption><center> <u> <font color='purple'> **Figure 1** </u></center></caption>"
   ]
  },
  {
   "cell_type": "markdown",
   "metadata": {
    "collapsed": true
   },
   "source": [
    "Of course, this algorithm performs really poorly, since the pixel values change dramatically due to variations in lighting, orientation of the person's face, even minor changes in head position, and so on. \n",
    "\n",
    "You'll see that rather than using the raw image, you can learn an encoding $f(img)$ so that element-wise comparisons of this encoding gives more accurate judgements as to whether two pictures are of the same person."
   ]
  },
  {
   "cell_type": "markdown",
   "metadata": {},
   "source": [
    "## 1 - Encoding face images into a 128-dimensional vector \n",
    "\n",
    "### 1.1 - Using an ConvNet  to compute encodings\n",
    "\n",
    "The FaceNet model takes a lot of data and a long time to train. So following common practice in applied deep learning settings, let's just load weights that someone else has already trained. The network architecture follows the Inception model from [Szegedy *et al.*](https://arxiv.org/abs/1409.4842). We have provided an inception network implementation. You can look in the file `inception_blocks.py` to see how it is implemented (do so by going to \"File->Open...\" at the top of the Jupyter notebook).  \n"
   ]
  },
  {
   "cell_type": "markdown",
   "metadata": {},
   "source": [
    "The key things you need to know are:\n",
    "\n",
    "- This network uses 96x96 dimensional RGB images as its input. Specifically, inputs a face image (or batch of $m$ face images) as a tensor of shape $(m, n_C, n_H, n_W) = (m, 3, 96, 96)$ \n",
    "- It outputs a matrix of shape $(m, 128)$ that encodes each input face image into a 128-dimensional vector\n",
    "\n",
    "Run the cell below to create the model for face images."
   ]
  },
  {
   "cell_type": "code",
   "execution_count": 2,
   "metadata": {
    "collapsed": true
   },
   "outputs": [],
   "source": [
    "FRmodel = faceRecoModel(input_shape=(3, 96, 96))"
   ]
  },
  {
   "cell_type": "code",
   "execution_count": 3,
   "metadata": {},
   "outputs": [
    {
     "name": "stdout",
     "output_type": "stream",
     "text": [
      "Total Params: 3743280\n"
     ]
    }
   ],
   "source": [
    "print(\"Total Params:\", FRmodel.count_params())"
   ]
  },
  {
   "cell_type": "markdown",
   "metadata": {},
   "source": [
    "** Expected Output **\n",
    "<table>\n",
    "<center>\n",
    "Total Params: 3743280\n",
    "</center>\n",
    "</table>\n"
   ]
  },
  {
   "cell_type": "markdown",
   "metadata": {},
   "source": [
    "By using a 128-neuron fully connected layer as its last layer, the model ensures that the output is an encoding vector of size 128. You then use the encodings the compare two face images as follows:\n",
    "\n",
    "<img src=\"images/distance_kiank.png\" style=\"width:680px;height:250px;\">\n",
    "<caption><center> <u> <font color='purple'> **Figure 2**: <br> </u> <font color='purple'> By computing a distance between two encodings and thresholding, you can determine if the two pictures represent the same person</center></caption>\n",
    "\n",
    "So, an encoding is a good one if: \n",
    "- The encodings of two images of the same person are quite similar to each other \n",
    "- The encodings of two images of different persons are very different\n",
    "\n",
    "The triplet loss function formalizes this, and tries to \"push\" the encodings of two images of the same person (Anchor and Positive) closer together, while \"pulling\" the encodings of two images of different persons (Anchor, Negative) further apart. \n",
    "\n",
    "<img src=\"images/triplet_comparison.png\" style=\"width:280px;height:150px;\">\n",
    "<br>\n",
    "<caption><center> <u> <font color='purple'> **Figure 3**: <br> </u> <font color='purple'> In the next part, we will call the pictures from left to right: Anchor (A), Positive (P), Negative (N)  </center></caption>"
   ]
  },
  {
   "cell_type": "markdown",
   "metadata": {},
   "source": [
    "\n",
    "\n",
    "### 1.2 - The Triplet Loss\n",
    "\n",
    "For an image $x$, we denote its encoding $f(x)$, where $f$ is the function computed by the neural network.\n",
    "\n",
    "<img src=\"images/f_x.png\" style=\"width:380px;height:150px;\">\n",
    "\n",
    "<!--\n",
    "We will also add a normalization step at the end of our model so that $\\mid \\mid f(x) \\mid \\mid_2 = 1$ (means the vector of encoding should be of norm 1).\n",
    "!-->\n",
    "\n",
    "Training will use triplets of images $(A, P, N)$:  \n",
    "\n",
    "- A is an \"Anchor\" image--a picture of a person. \n",
    "- P is a \"Positive\" image--a picture of the same person as the Anchor image.\n",
    "- N is a \"Negative\" image--a picture of a different person than the Anchor image.\n",
    "\n",
    "These triplets are picked from our training dataset. We will write $(A^{(i)}, P^{(i)}, N^{(i)})$ to denote the $i$-th training example. \n",
    "\n",
    "You'd like to make sure that an image $A^{(i)}$ of an individual is closer to the Positive $P^{(i)}$ than to the Negative image $N^{(i)}$) by at least a margin $\\alpha$:\n",
    "\n",
    "$$\\mid \\mid f(A^{(i)}) - f(P^{(i)}) \\mid \\mid_2^2 + \\alpha < \\mid \\mid f(A^{(i)}) - f(N^{(i)}) \\mid \\mid_2^2$$\n",
    "\n",
    "You would thus like to minimize the following \"triplet cost\":\n",
    "\n",
    "$$\\mathcal{J} = \\sum^{m}_{i=1} \\large[ \\small \\underbrace{\\mid \\mid f(A^{(i)}) - f(P^{(i)}) \\mid \\mid_2^2}_\\text{(1)} - \\underbrace{\\mid \\mid f(A^{(i)}) - f(N^{(i)}) \\mid \\mid_2^2}_\\text{(2)} + \\alpha \\large ] \\small_+ \\tag{3}$$\n",
    "\n",
    "Here, we are using the notation \"$[z]_+$\" to denote $max(z,0)$.  \n",
    "\n",
    "Notes:\n",
    "- The term (1) is the squared distance between the anchor \"A\" and the positive \"P\" for a given triplet; you want this to be small. \n",
    "- The term (2) is the squared distance between the anchor \"A\" and the negative \"N\" for a given triplet, you want this to be relatively large, so it thus makes sense to have a minus sign preceding it. \n",
    "- $\\alpha$ is called the margin. It is a hyperparameter that you should pick manually. We will use $\\alpha = 0.2$. \n",
    "\n",
    "Most implementations also normalize the encoding vectors  to have norm equal one (i.e., $\\mid \\mid f(img)\\mid \\mid_2$=1); you won't have to worry about that here.\n",
    "\n",
    "**Exercise**: Implement the triplet loss as defined by formula (3). Here are the 4 steps:\n",
    "1. Compute the distance between the encodings of \"anchor\" and \"positive\": $\\mid \\mid f(A^{(i)}) - f(P^{(i)}) \\mid \\mid_2^2$\n",
    "2. Compute the distance between the encodings of \"anchor\" and \"negative\": $\\mid \\mid f(A^{(i)}) - f(N^{(i)}) \\mid \\mid_2^2$\n",
    "3. Compute the formula per training example: $ \\mid \\mid f(A^{(i)}) - f(P^{(i)}) \\mid - \\mid \\mid f(A^{(i)}) - f(N^{(i)}) \\mid \\mid_2^2 + \\alpha$\n",
    "3. Compute the full formula by taking the max with zero and summing over the training examples:\n",
    "$$\\mathcal{J} = \\sum^{m}_{i=1} \\large[ \\small \\mid \\mid f(A^{(i)}) - f(P^{(i)}) \\mid \\mid_2^2 - \\mid \\mid f(A^{(i)}) - f(N^{(i)}) \\mid \\mid_2^2+ \\alpha \\large ] \\small_+ \\tag{3}$$\n",
    "\n",
    "Useful functions: `tf.reduce_sum()`, `tf.square()`, `tf.subtract()`, `tf.add()`, `tf.maximum()`.\n",
    "For steps 1 and 2, you will need to sum over the entries of $\\mid \\mid f(A^{(i)}) - f(P^{(i)}) \\mid \\mid_2^2$ and $\\mid \\mid f(A^{(i)}) - f(N^{(i)}) \\mid \\mid_2^2$ while for step 4 you will need to sum over the training examples."
   ]
  },
  {
   "cell_type": "code",
   "execution_count": 4,
   "metadata": {
    "collapsed": true
   },
   "outputs": [],
   "source": [
    "# GRADED FUNCTION: triplet_loss\n",
    "\n",
    "def triplet_loss(y_true, y_pred, alpha = 0.2):\n",
    "    \"\"\"\n",
    "    Implementation of the triplet loss as defined by formula (3)\n",
    "    \n",
    "    Arguments:\n",
    "    y_true -- true labels, required when you define a loss in Keras, you don't need it in this function.\n",
    "    y_pred -- python list containing three objects:\n",
    "            anchor -- the encodings for the anchor images, of shape (None, 128)\n",
    "            positive -- the encodings for the positive images, of shape (None, 128)\n",
    "            negative -- the encodings for the negative images, of shape (None, 128)\n",
    "    \n",
    "    Returns:\n",
    "    loss -- real number, value of the loss\n",
    "    \"\"\"\n",
    "    \n",
    "    anchor, positive, negative = y_pred[0], y_pred[1], y_pred[2]\n",
    "    \n",
    "    ### START CODE HERE ### (≈ 4 lines)\n",
    "    # Step 1: Compute the (encoding) distance between the anchor and the positive, you will need to sum over axis=-1\n",
    "    pos_dist = tf.reduce_sum(tf.square(anchor - positive), axis=-1)\n",
    "    # Step 2: Compute the (encoding) distance between the anchor and the negative, you will need to sum over axis=-1\n",
    "    neg_dist = tf.reduce_sum(tf.square(anchor - negative), axis=-1)\n",
    "    # Step 3: subtract the two previous distances and add alpha.\n",
    "    basic_loss = pos_dist - neg_dist + alpha\n",
    "    # Step 4: Take the maximum of basic_loss and 0.0. Sum over the training examples.\n",
    "    loss = tf.reduce_sum(tf.maximum(basic_loss, 0))\n",
    "    ### END CODE HERE ###\n",
    "    \n",
    "    return loss"
   ]
  },
  {
   "cell_type": "code",
   "execution_count": 5,
   "metadata": {},
   "outputs": [
    {
     "name": "stdout",
     "output_type": "stream",
     "text": [
      "loss = 528.143\n"
     ]
    }
   ],
   "source": [
    "with tf.Session() as test:\n",
    "    tf.set_random_seed(1)\n",
    "    y_true = (None, None, None)\n",
    "    y_pred = (tf.random_normal([3, 128], mean=6, stddev=0.1, seed = 1),\n",
    "              tf.random_normal([3, 128], mean=1, stddev=1, seed = 1),\n",
    "              tf.random_normal([3, 128], mean=3, stddev=4, seed = 1))\n",
    "    loss = triplet_loss(y_true, y_pred)\n",
    "    \n",
    "    print(\"loss = \" + str(loss.eval()))"
   ]
  },
  {
   "cell_type": "markdown",
   "metadata": {},
   "source": [
    "**Expected Output**:\n",
    "\n",
    "<table>\n",
    "    <tr>\n",
    "        <td>\n",
    "            **loss**\n",
    "        </td>\n",
    "        <td>\n",
    "           528.143\n",
    "        </td>\n",
    "    </tr>\n",
    "\n",
    "</table>"
   ]
  },
  {
   "cell_type": "markdown",
   "metadata": {},
   "source": [
    "## 2 - Loading the trained model\n",
    "\n",
    "FaceNet is trained by minimizing the triplet loss. But since training requires a lot of data and a lot of computation, we won't train it from scratch here. Instead, we load a previously trained model. Load a model using the following cell; this might take a couple of minutes to run. "
   ]
  },
  {
   "cell_type": "code",
   "execution_count": null,
   "metadata": {
    "collapsed": true
   },
   "outputs": [],
   "source": [
    "FRmodel.compile(optimizer = 'adam', loss = triplet_loss, metrics = ['accuracy'])\n",
    "load_weights_from_FaceNet(FRmodel)"
   ]
  },
  {
   "cell_type": "markdown",
   "metadata": {},
   "source": [
    "Here're some examples of distances between the encodings between three individuals:\n",
    "\n",
    "<img src=\"images/distance_matrix.png\" style=\"width:380px;height:200px;\">\n",
    "<br>\n",
    "<caption><center> <u> <font color='purple'> **Figure 4**:</u> <br>  <font color='purple'> Example of distance outputs between three individuals' encodings</center></caption>\n",
    "\n",
    "Let's now use this model to perform face verification and face recognition! "
   ]
  },
  {
   "cell_type": "markdown",
   "metadata": {},
   "source": [
    "## 3 - Applying the model"
   ]
  },
  {
   "cell_type": "markdown",
   "metadata": {},
   "source": [
    "Back to the Happy House! Residents are living blissfully since you implemented happiness recognition for the house in an earlier assignment.  \n",
    "\n",
    "However, several issues keep coming up: The Happy House became so happy that every happy person in the neighborhood is coming to hang out in your living room. It is getting really crowded, which is having a negative impact on the residents of the house. All these random happy people are also eating all your food. \n",
    "\n",
    "So, you decide to change the door entry policy, and not just let random happy people enter anymore, even if they are happy! Instead, you'd like to build a **Face verification** system so as to only let people from a specified list come in. To get admitted, each person has to swipe an ID card (identification card) to identify themselves at the door. The face recognition system then checks that they are who they claim to be. "
   ]
  },
  {
   "cell_type": "markdown",
   "metadata": {},
   "source": [
    "### 3.1 - Face Verification\n",
    "\n",
    "Let's build a database containing one encoding vector for each person allowed to enter the happy house. To generate the encoding we use `img_to_encoding(image_path, model)` which basically runs the forward propagation of the model on the specified image. \n",
    "\n",
    "Run the following code to build the database (represented as a python dictionary). This database maps each person's name to a 128-dimensional encoding of their face."
   ]
  },
  {
   "cell_type": "code",
   "execution_count": 6,
   "metadata": {},
   "outputs": [
    {
     "data": {
      "text/plain": [
       "{'andrew': array([[-0.11149514,  0.03133888,  0.13086289, -0.08706319,  0.16334075,\n",
       "         -0.10417262,  0.1104652 , -0.0206016 ,  0.04621858,  0.06336332,\n",
       "         -0.0507998 , -0.12916625, -0.11265834,  0.05359435,  0.00912503,\n",
       "          0.01202781, -0.00955295,  0.0314898 , -0.04911178, -0.19756913,\n",
       "         -0.05738565, -0.03048619,  0.08166752, -0.08465336, -0.07118098,\n",
       "          0.03268634,  0.02416557,  0.05409962, -0.12824357, -0.00332213,\n",
       "          0.12317016, -0.18349305,  0.04243544,  0.04917416,  0.03564283,\n",
       "          0.05833197, -0.16828902,  0.04428624, -0.00734941,  0.03573187,\n",
       "          0.01847011, -0.06980859,  0.09857145, -0.00251627,  0.03411891,\n",
       "         -0.07510114,  0.00350983,  0.00296588,  0.00195198, -0.11886182,\n",
       "          0.17420842, -0.00694598,  0.1769515 , -0.06581824, -0.0343309 ,\n",
       "         -0.11399643, -0.10906774, -0.02026597, -0.06981952,  0.02665875,\n",
       "         -0.03077704, -0.08378795,  0.13329892, -0.03597953,  0.04246757,\n",
       "         -0.01075405, -0.0274434 , -0.00172571, -0.03880902,  0.06161489,\n",
       "          0.09345209, -0.04642715, -0.00102738,  0.05333381, -0.16733088,\n",
       "         -0.02192737, -0.05943277,  0.03962389,  0.01135358, -0.03238394,\n",
       "          0.04076057, -0.03591859, -0.07115846, -0.09111158,  0.00276188,\n",
       "          0.20588033,  0.18393186, -0.01635128,  0.00410871, -0.03802583,\n",
       "          0.04245007, -0.20914829, -0.0061483 , -0.04459807, -0.02861843,\n",
       "          0.18160702, -0.10101752, -0.07820588, -0.04765031,  0.01737309,\n",
       "         -0.128087  ,  0.13594565,  0.01710701, -0.0954258 ,  0.00726456,\n",
       "         -0.07044175, -0.07337973, -0.0654202 , -0.228496  ,  0.02425503,\n",
       "         -0.18428989, -0.00297896, -0.01907349, -0.0412489 , -0.12688126,\n",
       "         -0.12778677,  0.11085517, -0.05023509, -0.00128681, -0.05754284,\n",
       "          0.02187362, -0.2097957 , -0.11978982,  0.02176216,  0.02384249,\n",
       "         -0.06063719,  0.01324324, -0.14264174]], dtype=float32),\n",
       " 'arnaud': array([[ -1.11277543e-01,   3.22692730e-02,   1.34935364e-01,\n",
       "          -9.61534157e-02,   1.67430311e-01,  -1.02931812e-01,\n",
       "           1.04553238e-01,  -2.57044397e-02,   3.77592593e-02,\n",
       "           6.06764778e-02,  -4.75452393e-02,  -1.23307832e-01,\n",
       "          -1.14866018e-01,   5.29462732e-02,   9.39243194e-03,\n",
       "           1.97153669e-02,  -4.04188549e-03,   3.13347168e-02,\n",
       "          -5.31467684e-02,  -1.86737493e-01,  -5.70768490e-02,\n",
       "          -3.82258482e-02,   8.83156881e-02,  -8.65644366e-02,\n",
       "          -6.09818250e-02,   3.56160291e-02,   2.46476643e-02,\n",
       "           5.19649461e-02,  -1.28121048e-01,  -4.91329050e-03,\n",
       "           1.28930837e-01,  -1.77388623e-01,   4.13265936e-02,\n",
       "           4.92171086e-02,   4.08258066e-02,   6.20609261e-02,\n",
       "          -1.58409417e-01,   4.55830134e-02,  -1.02784373e-02,\n",
       "           4.17624526e-02,   1.16547542e-02,  -7.68833235e-02,\n",
       "           1.07319213e-01,  -1.04262996e-02,   2.82377321e-02,\n",
       "          -7.75696561e-02,   4.47734399e-03,  -7.44464796e-06,\n",
       "           3.74003081e-03,  -1.13458678e-01,   1.76971063e-01,\n",
       "          -1.30531816e-02,   1.78946137e-01,  -6.44403324e-02,\n",
       "          -4.07153405e-02,  -1.25177667e-01,  -9.91717130e-02,\n",
       "          -1.33976452e-02,  -7.18061626e-02,   2.63623651e-02,\n",
       "          -2.61684824e-02,  -9.67306569e-02,   1.27117753e-01,\n",
       "          -3.48399468e-02,   4.17825952e-02,  -8.80664121e-03,\n",
       "          -2.45768763e-02,  -7.57317804e-03,  -3.24932039e-02,\n",
       "           6.39314651e-02,   1.01183034e-01,  -4.89311554e-02,\n",
       "           9.18925460e-03,   6.75818697e-02,  -1.74931645e-01,\n",
       "          -1.99789796e-02,  -6.29054978e-02,   3.69553715e-02,\n",
       "           5.02886437e-03,  -2.54366379e-02,   4.58037928e-02,\n",
       "          -3.60056758e-02,  -6.85287490e-02,  -8.33380520e-02,\n",
       "           1.89782144e-03,   2.00589702e-01,   1.82086065e-01,\n",
       "          -2.73032356e-02,   1.38987955e-02,  -3.63402255e-02,\n",
       "           4.51438390e-02,  -1.98061541e-01,  -1.54100554e-02,\n",
       "          -4.71746065e-02,  -3.78221050e-02,   1.78776205e-01,\n",
       "          -9.15810317e-02,  -7.62494653e-02,  -5.43635935e-02,\n",
       "           1.86113305e-02,  -1.26414090e-01,   1.35839656e-01,\n",
       "           1.81890819e-02,  -9.22317058e-02,   7.05353171e-03,\n",
       "          -7.11365566e-02,  -6.57113716e-02,  -7.04344735e-02,\n",
       "          -2.28395790e-01,   1.88386589e-02,  -1.82704255e-01,\n",
       "          -6.67870510e-03,  -2.10489966e-02,  -3.83729748e-02,\n",
       "          -1.22224398e-01,  -1.31132275e-01,   1.25916183e-01,\n",
       "          -4.94397208e-02,  -5.90196205e-03,  -4.95770089e-02,\n",
       "           1.36220381e-02,  -2.18488872e-01,  -1.25659093e-01,\n",
       "           2.53181998e-02,   2.15108711e-02,  -6.06510974e-02,\n",
       "           1.21409921e-02,  -1.40289575e-01]], dtype=float32),\n",
       " 'benoit': array([[-0.11143775,  0.03392158,  0.14419687, -0.07676296,  0.17460093,\n",
       "         -0.0981715 ,  0.11542721, -0.01390669,  0.03866261,  0.0683116 ,\n",
       "         -0.04826953, -0.11774933, -0.11587622,  0.04817979,  0.00958625,\n",
       "          0.01213307, -0.0007254 ,  0.0237412 , -0.04247768, -0.19658698,\n",
       "         -0.04856856, -0.0256367 ,  0.09167317, -0.08237399, -0.07118367,\n",
       "          0.03959833,  0.03731415,  0.04792555, -0.12264949, -0.01564215,\n",
       "          0.12303422, -0.1754522 ,  0.04128419,  0.04652846,  0.04589721,\n",
       "          0.05816295, -0.16281755,  0.0512904 , -0.00256317,  0.03653924,\n",
       "          0.0148209 , -0.07831988,  0.09882267, -0.00340435,  0.03325463,\n",
       "         -0.07471021,  0.00283516, -0.00107962,  0.0064595 , -0.12069512,\n",
       "          0.17098749, -0.01212574,  0.18118171, -0.06343862, -0.03035251,\n",
       "         -0.14067812, -0.10111827, -0.02506853, -0.06952368,  0.02576476,\n",
       "         -0.02944678, -0.08821926,  0.12967472, -0.03903877,  0.04167596,\n",
       "         -0.01648023, -0.02273724, -0.01251579, -0.02757188,  0.06938367,\n",
       "          0.0966531 , -0.04850501,  0.00525634,  0.05706652, -0.16634689,\n",
       "         -0.01422918, -0.0600534 ,  0.03387214,  0.01269855, -0.01838451,\n",
       "          0.04753252, -0.03519999, -0.07009879, -0.09569121, -0.00368351,\n",
       "          0.20626016,  0.18142934, -0.0205003 ,  0.00443036, -0.03859306,\n",
       "          0.0452424 , -0.20187794, -0.01704069, -0.05567613, -0.03997578,\n",
       "          0.1744118 , -0.10113766, -0.08303551, -0.05103212,  0.0140409 ,\n",
       "         -0.13168183,  0.13982818,  0.0128853 , -0.08573464,  0.01023837,\n",
       "         -0.07605719, -0.07756687, -0.06456017, -0.22588924,  0.0265922 ,\n",
       "         -0.18109885, -0.00823792, -0.01850547, -0.03754441, -0.11931884,\n",
       "         -0.12675278,  0.12097203, -0.04812192,  0.00115812, -0.04676177,\n",
       "          0.00759996, -0.21562691, -0.11282921,  0.02859562,  0.02351647,\n",
       "         -0.0581142 ,  0.01367989, -0.13958576]], dtype=float32),\n",
       " 'bertrand': array([[ -1.10382602e-01,   3.20001319e-02,   1.33191258e-01,\n",
       "          -8.89815837e-02,   1.66355863e-01,  -9.62828696e-02,\n",
       "           1.02449007e-01,  -2.35804338e-02,   4.27414365e-02,\n",
       "           6.08136207e-02,  -4.54488732e-02,  -1.25666857e-01,\n",
       "          -1.04778104e-01,   4.81745712e-02,   4.13133437e-03,\n",
       "           1.82682499e-02,  -3.05955764e-03,   3.02396789e-02,\n",
       "          -4.66267914e-02,  -1.95221603e-01,  -5.97146936e-02,\n",
       "          -3.54015343e-02,   9.09047127e-02,  -8.04285929e-02,\n",
       "          -6.78687990e-02,   4.24250029e-02,   2.92374194e-02,\n",
       "           5.52479699e-02,  -1.29666731e-01,  -4.69235936e-03,\n",
       "           1.20524988e-01,  -1.83995858e-01,   4.20791358e-02,\n",
       "           5.49230576e-02,   3.99453118e-02,   6.01043664e-02,\n",
       "          -1.57652110e-01,   5.07218987e-02,  -1.25913704e-02,\n",
       "           4.94098030e-02,   1.54571421e-02,  -7.19078407e-02,\n",
       "           1.14969760e-01,  -1.27604846e-02,   2.89467871e-02,\n",
       "          -8.33905488e-02,   1.16806605e-03,   5.89597691e-03,\n",
       "           6.62035169e-03,  -1.19387493e-01,   1.73595876e-01,\n",
       "          -1.27274627e-02,   1.73933968e-01,  -6.99336380e-02,\n",
       "          -3.38692926e-02,  -1.35741875e-01,  -1.03885226e-01,\n",
       "          -1.72418561e-02,  -7.58322924e-02,   2.50434279e-02,\n",
       "          -2.37995349e-02,  -9.53952074e-02,   1.34368315e-01,\n",
       "          -3.80824059e-02,   5.21482751e-02,  -1.65383685e-02,\n",
       "          -1.75956041e-02,  -5.76155726e-03,  -2.92812642e-02,\n",
       "           6.39388338e-02,   9.77390409e-02,  -4.02858965e-02,\n",
       "           1.24589708e-02,   7.04313144e-02,  -1.74212694e-01,\n",
       "          -1.23179769e-02,  -6.74645975e-02,   3.34975459e-02,\n",
       "           1.23226922e-02,  -3.07698976e-02,   4.75612581e-02,\n",
       "          -3.08974441e-02,  -6.29230887e-02,  -8.67206380e-02,\n",
       "           1.89131446e-04,   2.08931908e-01,   1.80583388e-01,\n",
       "          -3.29902247e-02,   1.54318260e-02,  -3.96593995e-02,\n",
       "           4.50281799e-02,  -1.99158147e-01,  -1.59578957e-02,\n",
       "          -4.84881029e-02,  -3.11830137e-02,   1.71110660e-01,\n",
       "          -9.64841098e-02,  -8.40532258e-02,  -5.65707311e-02,\n",
       "           2.69186720e-02,  -1.34696856e-01,   1.35767817e-01,\n",
       "           1.72463059e-02,  -8.97734314e-02,   9.29156691e-03,\n",
       "          -6.19466864e-02,  -6.02255389e-02,  -6.10591099e-02,\n",
       "          -2.24386409e-01,   2.20831130e-02,  -1.79951280e-01,\n",
       "          -4.96219518e-03,  -1.54059594e-02,  -4.00151759e-02,\n",
       "          -1.20316967e-01,  -1.25026107e-01,   1.32013962e-01,\n",
       "          -4.86667529e-02,   4.26236773e-03,  -4.53393608e-02,\n",
       "           6.46754075e-03,  -2.17786312e-01,  -1.19556844e-01,\n",
       "           1.47056933e-02,   1.88931096e-02,  -5.77820875e-02,\n",
       "           1.36750201e-02,  -1.32409245e-01]], dtype=float32),\n",
       " 'dan': array([[-0.11294138,  0.04041331,  0.14326039, -0.08075386,  0.15650456,\n",
       "         -0.09248244,  0.11757858, -0.00574324,  0.04737546,  0.07246909,\n",
       "         -0.05601384, -0.11668531, -0.10316302,  0.04596185,  0.01193181,\n",
       "          0.021498  , -0.00184381,  0.03858253, -0.04871375, -0.19922006,\n",
       "         -0.04828263, -0.03438284,  0.09532577, -0.08172316, -0.07210899,\n",
       "          0.03919625,  0.02499106,  0.06092014, -0.11836532, -0.00373413,\n",
       "          0.12918191, -0.17121267,  0.0401849 ,  0.05163405,  0.04595681,\n",
       "          0.05048547, -0.17837203,  0.04772925, -0.00600838,  0.02429466,\n",
       "          0.00963979, -0.07832064,  0.08643753,  0.01122092,  0.03266892,\n",
       "         -0.07095037,  0.00586221,  0.00605304, -0.01326191, -0.11378985,\n",
       "          0.17034982, -0.00728113,  0.17979398, -0.07129658, -0.02373478,\n",
       "         -0.13319287, -0.10792722, -0.02153352, -0.0639513 ,  0.02467437,\n",
       "         -0.04290563, -0.06787694,  0.11749763, -0.04096046,  0.03855782,\n",
       "         -0.01501706, -0.02000784, -0.00479462, -0.03663477,  0.06358967,\n",
       "          0.08627819, -0.05172518,  0.003427  ,  0.05484703, -0.16460133,\n",
       "         -0.02308383, -0.052085  ,  0.03558367,  0.01466581, -0.03111115,\n",
       "          0.04279511, -0.04342524, -0.07304734, -0.08606187, -0.00768581,\n",
       "          0.20758495,  0.18197745, -0.01034425,  0.01124822, -0.02530934,\n",
       "          0.0505756 , -0.2120505 , -0.00876022, -0.05550748, -0.03472477,\n",
       "          0.18185942, -0.11314274, -0.09148659, -0.05807774,  0.00659495,\n",
       "         -0.13625754,  0.13947207,  0.00966127, -0.09512796,  0.0040417 ,\n",
       "         -0.06372321, -0.08744881, -0.05952704, -0.22600728,  0.02896504,\n",
       "         -0.18560055, -0.00916376, -0.01162847, -0.04263909, -0.13243368,\n",
       "         -0.13576493,  0.1089125 , -0.04926643,  0.00345515, -0.04580984,\n",
       "          0.01029146, -0.20745684, -0.11823221,  0.0293733 ,  0.03891059,\n",
       "         -0.05112915,  0.02556132, -0.13132168]], dtype=float32),\n",
       " 'danielle': array([[-0.12726571,  0.03123984,  0.14219499, -0.09100083,  0.15715843,\n",
       "         -0.08420382,  0.12605456, -0.00825   ,  0.03546893,  0.06328804,\n",
       "         -0.04033822, -0.13313629, -0.11570602,  0.04158357,  0.01136954,\n",
       "          0.0097103 ,  0.01090311,  0.02319437, -0.05286663, -0.20478839,\n",
       "         -0.04452598, -0.03711277,  0.08470692, -0.08944216, -0.08333606,\n",
       "          0.02893928,  0.03233256,  0.0679267 , -0.10899796, -0.01019076,\n",
       "          0.12703902, -0.16801912,  0.04353898,  0.04302295,  0.05339254,\n",
       "          0.0546375 , -0.1702136 ,  0.03791134, -0.00900582,  0.03283111,\n",
       "          0.00976013, -0.06933156,  0.08320391,  0.00344981,  0.01731957,\n",
       "         -0.07214838,  0.00999325,  0.00114205, -0.01025227, -0.11884121,\n",
       "          0.15611422, -0.01069159,  0.17679434, -0.07143499, -0.0375271 ,\n",
       "         -0.13817592, -0.11344188, -0.02847726, -0.05688474,  0.0202669 ,\n",
       "         -0.03053769, -0.07560217,  0.1274205 , -0.03046151,  0.04472805,\n",
       "         -0.02078954, -0.03613358,  0.00408108, -0.03320339,  0.05469101,\n",
       "          0.07156295, -0.07159821,  0.00332569,  0.05145393, -0.1723703 ,\n",
       "         -0.01643888, -0.04378974,  0.03632636,  0.00608889, -0.04070873,\n",
       "          0.03582241, -0.04313946, -0.07442445, -0.0882076 , -0.00243844,\n",
       "          0.20472038,  0.17210169, -0.0136862 ,  0.02284884, -0.01010496,\n",
       "          0.0385337 , -0.2184189 ,  0.00143823, -0.04125315, -0.03488674,\n",
       "          0.18800943, -0.10099796, -0.08250003, -0.06401764, -0.00498337,\n",
       "         -0.13187294,  0.14489476,  0.02436693, -0.09320107,  0.00801916,\n",
       "         -0.06853954, -0.08212478, -0.06035504, -0.22607666,  0.02565328,\n",
       "         -0.1841623 , -0.00743713, -0.01385473, -0.04746869, -0.1251055 ,\n",
       "         -0.12980686,  0.10329454, -0.05467392, -0.00061863, -0.05184876,\n",
       "          0.01568656, -0.20821962, -0.12407825,  0.0220125 ,  0.0461221 ,\n",
       "         -0.07011697,  0.02102132, -0.13308154]], dtype=float32),\n",
       " 'felix': array([[ -1.18206404e-01,   3.71504612e-02,   1.35929182e-01,\n",
       "          -8.27295110e-02,   1.69747010e-01,  -9.78574008e-02,\n",
       "           1.09296776e-01,  -5.78501867e-03,   3.65825333e-02,\n",
       "           7.08433017e-02,  -4.93107513e-02,  -1.24019168e-01,\n",
       "          -1.10693224e-01,   5.00968359e-02,   1.52801434e-02,\n",
       "           9.49639175e-03,   1.30654243e-03,   2.87203677e-02,\n",
       "          -5.29201403e-02,  -2.02464923e-01,  -5.24069630e-02,\n",
       "          -3.66370119e-02,   9.50079933e-02,  -7.99627826e-02,\n",
       "          -7.82065988e-02,   3.04562841e-02,   2.65214816e-02,\n",
       "           6.06887527e-02,  -1.20696522e-01,  -1.04647856e-02,\n",
       "           1.24472417e-01,  -1.77238062e-01,   3.93796675e-02,\n",
       "           4.45199683e-02,   4.76570092e-02,   5.37686571e-02,\n",
       "          -1.74155876e-01,   4.07421552e-02,  -5.96334692e-03,\n",
       "           2.41883714e-02,   1.01238620e-02,  -8.40473175e-02,\n",
       "           8.12304094e-02,   6.83013583e-04,   2.97440998e-02,\n",
       "          -7.35095665e-02,   4.35721176e-03,  -1.74192046e-05,\n",
       "          -7.81011907e-03,  -1.17498271e-01,   1.57976970e-01,\n",
       "          -5.00108209e-03,   1.81444958e-01,  -6.46706820e-02,\n",
       "          -2.79047601e-02,  -1.36313722e-01,  -1.00552134e-01,\n",
       "          -1.68892667e-02,  -6.57034516e-02,   2.61205304e-02,\n",
       "          -4.13883924e-02,  -7.65687153e-02,   1.15431800e-01,\n",
       "          -3.38273272e-02,   3.37998718e-02,  -1.29264062e-02,\n",
       "          -2.66244244e-02,  -3.82817932e-04,  -2.60718558e-02,\n",
       "           6.67706951e-02,   7.80188888e-02,  -5.96129186e-02,\n",
       "          -5.89467119e-03,   6.49044663e-02,  -1.64506540e-01,\n",
       "          -2.49488708e-02,  -4.65221591e-02,   3.09704505e-02,\n",
       "           9.26905032e-03,  -3.37469801e-02,   5.53479716e-02,\n",
       "          -4.36992645e-02,  -7.94005617e-02,  -7.94656202e-02,\n",
       "          -6.17249124e-03,   2.04205081e-01,   1.74531400e-01,\n",
       "          -1.18763363e-02,   2.03607623e-02,  -3.09019499e-02,\n",
       "           4.38342579e-02,  -2.15818599e-01,  -1.10682882e-02,\n",
       "          -5.58478720e-02,  -3.79470550e-02,   1.76232442e-01,\n",
       "          -1.08556449e-01,  -8.16397816e-02,  -6.20802604e-02,\n",
       "           6.39023352e-03,  -1.30341664e-01,   1.45922005e-01,\n",
       "           1.14734545e-02,  -9.09358710e-02,   4.72872332e-03,\n",
       "          -6.43930137e-02,  -8.11902881e-02,  -6.35201186e-02,\n",
       "          -2.25373223e-01,   4.61994968e-02,  -1.86881006e-01,\n",
       "          -1.10582467e-02,  -1.64457038e-02,  -4.68489900e-02,\n",
       "          -1.24736778e-01,  -1.26515940e-01,   1.14281066e-01,\n",
       "          -5.73741309e-02,   9.81393503e-04,  -4.54962775e-02,\n",
       "           1.48393298e-02,  -2.10758835e-01,  -1.27309680e-01,\n",
       "           2.71635801e-02,   3.38487551e-02,  -5.02680317e-02,\n",
       "           2.11760309e-02,  -1.40896469e-01]], dtype=float32),\n",
       " 'kevin': array([[-0.12518013,  0.03911343,  0.15004469, -0.08173008,  0.15709366,\n",
       "         -0.09423899,  0.11279076, -0.00622403,  0.04162777,  0.05878857,\n",
       "         -0.04990244, -0.13734332, -0.1149589 ,  0.04527376,  0.01845028,\n",
       "          0.00702537,  0.00348445,  0.02336081, -0.04732125, -0.20313327,\n",
       "         -0.05085931, -0.03786656,  0.08785173, -0.08800468, -0.0810615 ,\n",
       "          0.0308207 ,  0.02273123,  0.06737651, -0.10935789, -0.0046552 ,\n",
       "          0.12548226, -0.17438014,  0.03909281,  0.04740665,  0.04511286,\n",
       "          0.04698636, -0.18119313,  0.03773166, -0.0093953 ,  0.02609403,\n",
       "          0.01764756, -0.0754611 ,  0.08270072,  0.00671521,  0.02430708,\n",
       "         -0.06826146,  0.0092978 ,  0.00211263, -0.00770586, -0.12434236,\n",
       "          0.16286841, -0.00419963,  0.17708023, -0.0703591 , -0.02437537,\n",
       "         -0.13378257, -0.11509917, -0.03194828, -0.06262447,  0.02842227,\n",
       "         -0.03522301, -0.06877788,  0.12678213, -0.03916427,  0.04648153,\n",
       "         -0.01022864, -0.02440078,  0.00269081, -0.03503739,  0.06514507,\n",
       "          0.08262916, -0.05920167, -0.01015554,  0.05280437, -0.17072338,\n",
       "         -0.01856296, -0.04920778,  0.03856067,  0.00985502, -0.0470228 ,\n",
       "          0.04753502, -0.04413577, -0.05736868, -0.07547204, -0.00820825,\n",
       "          0.19977665,  0.17386858, -0.02457044,  0.01807157, -0.02402557,\n",
       "          0.05005758, -0.21114515, -0.00363735, -0.04090595, -0.03719782,\n",
       "          0.18276046, -0.10516321, -0.07806791, -0.06132972,  0.0065175 ,\n",
       "         -0.1235604 ,  0.13947383,  0.02048541, -0.09226067,  0.00400859,\n",
       "         -0.06698488, -0.08992981, -0.05801233, -0.224398  ,  0.03219124,\n",
       "         -0.18651292, -0.00905672, -0.01454077, -0.04876559, -0.12703334,\n",
       "         -0.12889241,  0.1018442 , -0.04775773, -0.00520248, -0.05375515,\n",
       "          0.02491405, -0.20951824, -0.12537616,  0.02733982,  0.0274803 ,\n",
       "         -0.06847688,  0.01788492, -0.14104418]], dtype=float32),\n",
       " 'kian': array([[-0.112438  ,  0.03697561,  0.1435363 , -0.08824062,  0.16246997,\n",
       "         -0.10371396,  0.11310463, -0.00598218,  0.03757232,  0.06832492,\n",
       "         -0.04353355, -0.12531337, -0.11731616,  0.05038139,  0.01431665,\n",
       "          0.01599217, -0.00216143,  0.02533088, -0.05027736, -0.199384  ,\n",
       "         -0.04841918, -0.0338974 ,  0.0948019 , -0.08250031, -0.07081692,\n",
       "          0.03501304,  0.0280041 ,  0.05388568, -0.12123215, -0.01832852,\n",
       "          0.12281642, -0.17396668,  0.04000439,  0.05483572,  0.03969872,\n",
       "          0.05434851, -0.17134084,  0.03041092, -0.00562133,  0.03160212,\n",
       "          0.01389567, -0.07009315,  0.08550374, -0.00029221,  0.02502301,\n",
       "         -0.06875035,  0.00495513,  0.00769967, -0.00623919, -0.11420339,\n",
       "          0.16463317, -0.00885037,  0.18534887, -0.06689663, -0.03260043,\n",
       "         -0.1283519 , -0.10581725, -0.02163477, -0.07531027,  0.0310158 ,\n",
       "         -0.03308244, -0.08415601,  0.12083326, -0.0350907 ,  0.03799678,\n",
       "         -0.01638475, -0.01701202, -0.00616278, -0.03695014,  0.05965435,\n",
       "          0.08664041, -0.05753936,  0.00349097,  0.05771048, -0.17326882,\n",
       "         -0.02048929, -0.0531813 ,  0.03488719,  0.01411689, -0.03502992,\n",
       "          0.04832676, -0.04593699, -0.07867683, -0.08183991, -0.00480366,\n",
       "          0.2106356 ,  0.18151131, -0.01321789,  0.01224662, -0.0259912 ,\n",
       "          0.04422458, -0.20168853, -0.01382962, -0.0457433 , -0.032598  ,\n",
       "          0.18481992, -0.10095644, -0.08085644, -0.05588968,  0.0068296 ,\n",
       "         -0.12557776,  0.139708  ,  0.02261491, -0.0954315 ,  0.00061679,\n",
       "         -0.06534966, -0.06889085, -0.06247139, -0.23282161,  0.0338499 ,\n",
       "         -0.18328647, -0.01704065, -0.02287019, -0.03642659, -0.11987905,\n",
       "         -0.13408683,  0.11789741, -0.0519382 , -0.00419929, -0.05566642,\n",
       "          0.01197869, -0.20906568, -0.12390491,  0.03520999,  0.02579332,\n",
       "         -0.06341138,  0.016113  , -0.13527478]], dtype=float32),\n",
       " 'sebastiano': array([[-0.11490814,  0.0386848 ,  0.14155269, -0.07503055,  0.1666062 ,\n",
       "         -0.10198235,  0.11476976, -0.00519057,  0.0412388 ,  0.06522469,\n",
       "         -0.05168737, -0.12165329, -0.11717544,  0.04908053,  0.01620916,\n",
       "          0.01310782,  0.00228104,  0.02835903, -0.04536629, -0.19685313,\n",
       "         -0.0466585 , -0.02550417,  0.09231889, -0.07987659, -0.0678806 ,\n",
       "          0.04093131,  0.04110962,  0.04798771, -0.12062521, -0.0124375 ,\n",
       "          0.12944315, -0.17314622,  0.03863442,  0.04853253,  0.04595665,\n",
       "          0.05895648, -0.16891384,  0.04313986, -0.0022822 ,  0.03181593,\n",
       "          0.01571319, -0.07619069,  0.09497351,  0.00370696,  0.03525438,\n",
       "         -0.07643003,  0.00103311,  0.00362387,  0.00164485, -0.12123221,\n",
       "          0.17177247, -0.01082424,  0.18479513, -0.06772231, -0.02846349,\n",
       "         -0.12971461, -0.10313988, -0.0209356 , -0.07297866,  0.02750637,\n",
       "         -0.04220339, -0.08250569,  0.1249258 , -0.04027738,  0.03217209,\n",
       "         -0.01597741, -0.02135972, -0.0065918 , -0.02848594,  0.06898993,\n",
       "          0.09050721, -0.05653775,  0.00238324,  0.06145801, -0.16518363,\n",
       "         -0.02175428, -0.060027  ,  0.0301487 ,  0.01437589, -0.02862063,\n",
       "          0.04220366, -0.03495511, -0.07899948, -0.08874671, -0.00578574,\n",
       "          0.20026828,  0.17758417, -0.01553179,  0.00778875, -0.02592533,\n",
       "          0.04654762, -0.20715386, -0.01610241, -0.05416177, -0.04244589,\n",
       "          0.17436993, -0.10484792, -0.08363035, -0.04982309,  0.00962987,\n",
       "         -0.12991773,  0.13907187,  0.01416635, -0.09222446,  0.00697849,\n",
       "         -0.07452851, -0.07653275, -0.06516559, -0.2315484 ,  0.02396399,\n",
       "         -0.18295683, -0.01601386, -0.01815207, -0.04189967, -0.12027044,\n",
       "         -0.13483189,  0.11455495, -0.04835128, -0.00098584, -0.04826987,\n",
       "          0.00649108, -0.21345106, -0.11377923,  0.03037341,  0.02943555,\n",
       "         -0.05668923,  0.01612677, -0.1377859 ]], dtype=float32),\n",
       " 'tian': array([[-0.09927927,  0.03456695,  0.16695571, -0.08653717,  0.17364712,\n",
       "         -0.09455688,  0.09004475, -0.02491237,  0.03558888,  0.05245791,\n",
       "         -0.02813756, -0.1300021 , -0.11550379,  0.04408885, -0.0206392 ,\n",
       "          0.00055722,  0.00314473,  0.0361595 , -0.0487491 , -0.18179473,\n",
       "         -0.07255328, -0.03567303,  0.10024676, -0.0705991 , -0.08286877,\n",
       "          0.00779856,  0.03197864,  0.05248534, -0.13058701, -0.00872334,\n",
       "          0.15273272, -0.18017103,  0.03033433,  0.04395277,  0.04758584,\n",
       "          0.05167161, -0.14038989,  0.04759584, -0.02171994,  0.03435587,\n",
       "          0.03353082, -0.06778431,  0.0837525 , -0.02812842,  0.02295903,\n",
       "         -0.0610243 , -0.01015626,  0.01965517, -0.01018255, -0.1189637 ,\n",
       "          0.13225189, -0.01628866,  0.16605103, -0.07624914, -0.02830712,\n",
       "         -0.14653403, -0.09220575, -0.03589184, -0.06009692,  0.03883135,\n",
       "         -0.01809181, -0.09674472,  0.1484383 , -0.03327522,  0.05363986,\n",
       "         -0.00962827, -0.01023586, -0.00769834, -0.04077393,  0.06010258,\n",
       "          0.07890857, -0.02048361, -0.0122361 ,  0.08263646, -0.16956849,\n",
       "          0.00398462, -0.05851753,  0.03319631,  0.04270365, -0.05691533,\n",
       "          0.0408135 , -0.05312881, -0.0319468 , -0.06932245, -0.01177727,\n",
       "          0.19429047,  0.20301291, -0.03045502,  0.02960082, -0.05675976,\n",
       "          0.07038814, -0.2028176 ,  0.00273916, -0.04501199, -0.02439438,\n",
       "          0.17119814, -0.08754736, -0.07437837, -0.05616927,  0.03697732,\n",
       "         -0.11582183,  0.14296395,  0.01968922, -0.08212502, -0.01157599,\n",
       "         -0.0615599 , -0.07753911, -0.04730983, -0.21737917,  0.03371545,\n",
       "         -0.209333  , -0.00565391, -0.0108787 , -0.02479014, -0.10719065,\n",
       "         -0.09805857,  0.14289984, -0.05420719, -0.025623  , -0.06462369,\n",
       "          0.01738912, -0.21309918, -0.13453139, -0.01254625,  0.01112539,\n",
       "         -0.0742031 , -0.00800753, -0.16012497]], dtype=float32),\n",
       " 'younes': array([[ -1.22266725e-01,   3.34632434e-02,   1.41967803e-01,\n",
       "          -9.22813714e-02,   1.66115478e-01,  -1.01475827e-01,\n",
       "           1.08862415e-01,  -1.28236609e-02,   2.68370714e-02,\n",
       "           5.82831986e-02,  -4.95517738e-02,  -1.34822160e-01,\n",
       "          -1.26388222e-01,   4.80264872e-02,   1.47310868e-02,\n",
       "           1.01528792e-02,   6.23190822e-03,   1.86852943e-02,\n",
       "          -4.85720187e-02,  -1.84646383e-01,  -6.12466149e-02,\n",
       "          -3.00622918e-02,   8.04797485e-02,  -8.72267485e-02,\n",
       "          -7.08923414e-02,   2.87909843e-02,   2.92632878e-02,\n",
       "           5.25951311e-02,  -1.12815008e-01,  -7.53557170e-03,\n",
       "           1.26758978e-01,  -1.83193594e-01,   3.38081941e-02,\n",
       "           3.59065346e-02,   4.65433560e-02,   5.49628399e-02,\n",
       "          -1.62267014e-01,   3.72247845e-02,  -1.43266004e-02,\n",
       "           3.20612602e-02,   1.59122609e-02,  -8.14685673e-02,\n",
       "           9.34103057e-02,  -3.56371514e-03,   2.63758898e-02,\n",
       "          -7.61683956e-02,   6.82637887e-03,  -8.04798678e-03,\n",
       "           1.33475456e-02,  -1.14628933e-01,   1.58609644e-01,\n",
       "           3.88650718e-04,   1.75390407e-01,  -4.95515242e-02,\n",
       "          -3.83105278e-02,  -1.26266718e-01,  -9.55924094e-02,\n",
       "          -1.79367568e-02,  -7.01437816e-02,   2.00797096e-02,\n",
       "          -2.75201444e-02,  -9.30013657e-02,   1.13446243e-01,\n",
       "          -2.80202981e-02,   4.59655859e-02,   1.81045383e-04,\n",
       "          -3.77240963e-02,  -1.06308481e-03,  -4.01208960e-02,\n",
       "           7.28657842e-02,   9.32817012e-02,  -6.38891608e-02,\n",
       "          -5.82995126e-03,   6.16913736e-02,  -1.70892090e-01,\n",
       "          -1.88101139e-02,  -5.42146303e-02,   3.62767577e-02,\n",
       "           9.86810215e-03,  -2.85687912e-02,   4.36544493e-02,\n",
       "          -3.12011559e-02,  -6.68939054e-02,  -8.32310319e-02,\n",
       "           9.78010148e-03,   2.00873747e-01,   1.83417693e-01,\n",
       "          -1.78375393e-02,   1.50381047e-02,  -3.26292813e-02,\n",
       "           4.29958329e-02,  -2.16010079e-01,   6.21397840e-03,\n",
       "          -5.10804579e-02,  -3.63230444e-02,   1.92811579e-01,\n",
       "          -1.01125106e-01,  -6.80326447e-02,  -5.17033190e-02,\n",
       "           1.65112633e-02,  -1.27675131e-01,   1.35480300e-01,\n",
       "           2.30475646e-02,  -8.56981874e-02,   1.31793208e-02,\n",
       "          -7.43682832e-02,  -8.02867264e-02,  -6.99971020e-02,\n",
       "          -2.37463191e-01,   3.54862884e-02,  -1.89537838e-01,\n",
       "          -5.30754821e-03,  -1.44420872e-02,  -4.13645059e-02,\n",
       "          -1.24829993e-01,  -1.32201999e-01,   1.09184973e-01,\n",
       "          -5.75621910e-02,  -1.03446469e-02,  -3.80837843e-02,\n",
       "           2.11727694e-02,  -2.09566668e-01,  -1.25955909e-01,\n",
       "           2.00344678e-02,   2.19104141e-02,  -5.75027987e-02,\n",
       "           1.26856752e-02,  -1.41445473e-01]], dtype=float32)}"
      ]
     },
     "execution_count": 6,
     "metadata": {},
     "output_type": "execute_result"
    }
   ],
   "source": [
    "database = {}\n",
    "database[\"danielle\"] = img_to_encoding(\"images/danielle.png\", FRmodel)\n",
    "database[\"younes\"] = img_to_encoding(\"images/younes.jpg\", FRmodel)\n",
    "database[\"tian\"] = img_to_encoding(\"images/tian.jpg\", FRmodel)\n",
    "database[\"andrew\"] = img_to_encoding(\"images/andrew.jpg\", FRmodel)\n",
    "database[\"kian\"] = img_to_encoding(\"images/kian.jpg\", FRmodel)\n",
    "database[\"dan\"] = img_to_encoding(\"images/dan.jpg\", FRmodel)\n",
    "database[\"sebastiano\"] = img_to_encoding(\"images/sebastiano.jpg\", FRmodel)\n",
    "database[\"bertrand\"] = img_to_encoding(\"images/bertrand.jpg\", FRmodel)\n",
    "database[\"kevin\"] = img_to_encoding(\"images/kevin.jpg\", FRmodel)\n",
    "database[\"felix\"] = img_to_encoding(\"images/felix.jpg\", FRmodel)\n",
    "database[\"benoit\"] = img_to_encoding(\"images/benoit.jpg\", FRmodel)\n",
    "database[\"arnaud\"] = img_to_encoding(\"images/arnaud.jpg\", FRmodel)\n",
    "\n",
    "database"
   ]
  },
  {
   "cell_type": "markdown",
   "metadata": {},
   "source": [
    "Now, when someone shows up at your front door and swipes their ID card (thus giving you their name), you can look up their encoding in the database, and use it to check if the person standing at the front door matches the name on the ID.\n",
    "\n",
    "**Exercise**: Implement the verify() function which checks if the front-door camera picture (`image_path`) is actually the person called \"identity\". You will have to go through the following steps:\n",
    "1. Compute the encoding of the image from image_path\n",
    "2. Compute the distance about this encoding and the encoding of the identity image stored in the database\n",
    "3. Open the door if the distance is less than 0.7, else do not open.\n",
    "\n",
    "As presented above, you should use the L2 distance (np.linalg.norm). (Note: In this implementation, compare the L2 distance, not the square of the L2 distance, to the threshold 0.7.) "
   ]
  },
  {
   "cell_type": "code",
   "execution_count": 7,
   "metadata": {
    "collapsed": true
   },
   "outputs": [],
   "source": [
    "# GRADED FUNCTION: verify\n",
    "\n",
    "def verify(image_path, identity, database, model):\n",
    "    \"\"\"\n",
    "    Function that verifies if the person on the \"image_path\" image is \"identity\".\n",
    "    \n",
    "    Arguments:\n",
    "    image_path -- path to an image\n",
    "    identity -- string, name of the person you'd like to verify the identity. Has to be a resident of the Happy house.\n",
    "    database -- python dictionary mapping names of allowed people's names (strings) to their encodings (vectors).\n",
    "    model -- your Inception model instance in Keras\n",
    "    \n",
    "    Returns:\n",
    "    dist -- distance between the image_path and the image of \"identity\" in the database.\n",
    "    door_open -- True, if the door should open. False otherwise.\n",
    "    \"\"\"\n",
    "    \n",
    "    ### START CODE HERE ###\n",
    "    \n",
    "    # Step 1: Compute the encoding for the image. Use img_to_encoding() see example above. (≈ 1 line)\n",
    "    encoding = img_to_encoding(image_path, model)\n",
    "    \n",
    "    # Step 2: Compute distance with identity's image (≈ 1 line)\n",
    "    dist = np.linalg.norm(encoding - database[identity])\n",
    "    \n",
    "    # Step 3: Open the door if dist < 0.7, else don't open (≈ 3 lines)\n",
    "    if dist < 0.7:\n",
    "        print(\"It's \" + str(identity) + \", welcome home!\")\n",
    "        door_open = True\n",
    "    else:\n",
    "        print(\"It's not \" + str(identity) + \", please go away\")\n",
    "        door_open = False\n",
    "        \n",
    "    ### END CODE HERE ###\n",
    "        \n",
    "    return dist, door_open"
   ]
  },
  {
   "cell_type": "markdown",
   "metadata": {},
   "source": [
    "Younes is trying to enter the Happy House and the camera takes a picture of him (\"images/camera_0.jpg\"). Let's run your verification algorithm on this picture:\n",
    "\n",
    "<img src=\"images/camera_0.jpg\" style=\"width:100px;height:100px;\">"
   ]
  },
  {
   "cell_type": "code",
   "execution_count": 8,
   "metadata": {},
   "outputs": [
    {
     "name": "stdout",
     "output_type": "stream",
     "text": [
      "It's younes, welcome home!\n"
     ]
    },
    {
     "data": {
      "text/plain": [
       "(0.058332648, True)"
      ]
     },
     "execution_count": 8,
     "metadata": {},
     "output_type": "execute_result"
    }
   ],
   "source": [
    "verify(\"images/camera_0.jpg\", \"younes\", database, FRmodel)"
   ]
  },
  {
   "cell_type": "markdown",
   "metadata": {
    "collapsed": true
   },
   "source": [
    "**Expected Output**:\n",
    "\n",
    "<table>\n",
    "    <tr>\n",
    "        <td>\n",
    "            **It's younes, welcome home!**\n",
    "        </td>\n",
    "        <td>\n",
    "           (0.65939283, True)\n",
    "        </td>\n",
    "    </tr>\n",
    "\n",
    "</table>"
   ]
  },
  {
   "cell_type": "markdown",
   "metadata": {
    "collapsed": true
   },
   "source": [
    "Benoit, who broke the aquarium last weekend, has been banned from the house and removed from the database. He stole Kian's ID card and came back to the house to try to present himself as Kian. The front-door camera took a picture of Benoit (\"images/camera_2.jpg). Let's run the verification algorithm to check if benoit can enter.\n",
    "<img src=\"images/camera_2.jpg\" style=\"width:100px;height:100px;\">"
   ]
  },
  {
   "cell_type": "code",
   "execution_count": 9,
   "metadata": {},
   "outputs": [
    {
     "name": "stdout",
     "output_type": "stream",
     "text": [
      "It's kian, welcome home!\n"
     ]
    },
    {
     "data": {
      "text/plain": [
       "(0.084572002, True)"
      ]
     },
     "execution_count": 9,
     "metadata": {},
     "output_type": "execute_result"
    }
   ],
   "source": [
    "verify(\"images/camera_2.jpg\", \"kian\", database, FRmodel)"
   ]
  },
  {
   "cell_type": "markdown",
   "metadata": {},
   "source": [
    "**Expected Output**:\n",
    "\n",
    "<table>\n",
    "    <tr>\n",
    "        <td>\n",
    "            **It's not kian, please go away**\n",
    "        </td>\n",
    "        <td>\n",
    "           (0.86224014, False)\n",
    "        </td>\n",
    "    </tr>\n",
    "\n",
    "</table>"
   ]
  },
  {
   "cell_type": "markdown",
   "metadata": {},
   "source": [
    "### 3.2 - Face Recognition\n",
    "\n",
    "Your face verification system is mostly working well. But since Kian got his ID card stolen, when he came back to the house that evening he couldn't get in! \n",
    "\n",
    "To reduce such shenanigans, you'd like to change your face verification system to a face recognition system. This way, no one has to carry an ID card anymore. An authorized person can just walk up to the house, and the front door will unlock for them! \n",
    "\n",
    "You'll implement a face recognition system that takes as input an image, and figures out if it is one of the authorized persons (and if so, who). Unlike the previous face verification system, we will no longer get a person's name as another input. \n",
    "\n",
    "**Exercise**: Implement `who_is_it()`. You will have to go through the following steps:\n",
    "1. Compute the target encoding of the image from image_path\n",
    "2. Find the encoding from the database that has smallest distance with the target encoding. \n",
    "    - Initialize the `min_dist` variable to a large enough number (100). It will help you keep track of what is the closest encoding to the input's encoding.\n",
    "    - Loop over the database dictionary's names and encodings. To loop use `for (name, db_enc) in database.items()`.\n",
    "        - Compute L2 distance between the target \"encoding\" and the current \"encoding\" from the database.\n",
    "        - If this distance is less than the min_dist, then set min_dist to dist, and identity to name."
   ]
  },
  {
   "cell_type": "code",
   "execution_count": 10,
   "metadata": {
    "collapsed": true
   },
   "outputs": [],
   "source": [
    "# GRADED FUNCTION: who_is_it\n",
    "\n",
    "def who_is_it(image_path, database, model):\n",
    "    \"\"\"\n",
    "    Implements face recognition for the happy house by finding who is the person on the image_path image.\n",
    "    \n",
    "    Arguments:\n",
    "    image_path -- path to an image\n",
    "    database -- database containing image encodings along with the name of the person on the image\n",
    "    model -- your Inception model instance in Keras\n",
    "    \n",
    "    Returns:\n",
    "    min_dist -- the minimum distance between image_path encoding and the encodings from the database\n",
    "    identity -- string, the name prediction for the person on image_path\n",
    "    \"\"\"\n",
    "    \n",
    "    ### START CODE HERE ### \n",
    "    \n",
    "    ## Step 1: Compute the target \"encoding\" for the image. Use img_to_encoding() see example above. ## (≈ 1 line)\n",
    "    encoding = img_to_encoding(image_path, model)\n",
    "    \n",
    "    ## Step 2: Find the closest encoding ##\n",
    "    \n",
    "    # Initialize \"min_dist\" to a large value, say 100 (≈1 line)\n",
    "    min_dist = 100\n",
    "    \n",
    "    # Loop over the database dictionary's names and encodings.\n",
    "    for (name, db_enc) in database.items():\n",
    "        \n",
    "        # Compute L2 distance between the target \"encoding\" and the current \"emb\" from the database. (≈ 1 line)\n",
    "        dist = np.linalg.norm(db_enc - encoding)\n",
    "\n",
    "        # If this distance is less than the min_dist, then set min_dist to dist, and identity to name. (≈ 3 lines)\n",
    "        if dist < min_dist:\n",
    "            min_dist = dist\n",
    "            identity = name\n",
    "\n",
    "    ### END CODE HERE ###\n",
    "    \n",
    "    if min_dist > 0.7:\n",
    "        print(\"Not in the database.\")\n",
    "    else:\n",
    "        print (\"it's \" + str(identity) + \", the distance is \" + str(min_dist))\n",
    "        \n",
    "    return min_dist, identity"
   ]
  },
  {
   "cell_type": "markdown",
   "metadata": {},
   "source": [
    "Younes is at the front-door and the camera takes a picture of him (\"images/camera_0.jpg\"). Let's see if your who_it_is() algorithm identifies Younes. "
   ]
  },
  {
   "cell_type": "code",
   "execution_count": 11,
   "metadata": {
    "scrolled": false
   },
   "outputs": [
    {
     "name": "stdout",
     "output_type": "stream",
     "text": [
      "it's younes, the distance is 0.0583326\n"
     ]
    },
    {
     "data": {
      "text/plain": [
       "(0.058332648, 'younes')"
      ]
     },
     "execution_count": 11,
     "metadata": {},
     "output_type": "execute_result"
    }
   ],
   "source": [
    "who_is_it(\"images/camera_0.jpg\", database, FRmodel)"
   ]
  },
  {
   "cell_type": "markdown",
   "metadata": {},
   "source": [
    "**Expected Output**:\n",
    "\n",
    "<table>\n",
    "    <tr>\n",
    "        <td>\n",
    "            **it's younes, the distance is 0.659393**\n",
    "        </td>\n",
    "        <td>\n",
    "           (0.65939283, 'younes')\n",
    "        </td>\n",
    "    </tr>\n",
    "\n",
    "</table>"
   ]
  },
  {
   "cell_type": "markdown",
   "metadata": {},
   "source": [
    "You can change \"`camera_0.jpg`\" (picture of younes) to \"`camera_1.jpg`\" (picture of bertrand) and see the result."
   ]
  },
  {
   "cell_type": "markdown",
   "metadata": {},
   "source": [
    "Your Happy House is running well. It only lets in authorized persons, and people don't need to carry an ID card around anymore! \n",
    "\n",
    "You've now seen how a state-of-the-art face recognition system works.\n",
    "\n",
    "Although we won't implement it here, here're some ways to further improve the algorithm:\n",
    "- Put more images of each person (under different lighting conditions, taken on different days, etc.) into the database. Then given a new image, compare the new face to multiple pictures of the person. This would increae accuracy.\n",
    "- Crop the images to just contain the face, and less of the \"border\" region around the face. This preprocessing removes some of the irrelevant pixels around the face, and also makes the algorithm more robust.\n"
   ]
  },
  {
   "cell_type": "markdown",
   "metadata": {},
   "source": [
    "<font color='blue'>\n",
    "**What you should remember**:\n",
    "- Face verification solves an easier 1:1 matching problem; face recognition addresses a harder 1:K matching problem. \n",
    "- The triplet loss is an effective loss function for training a neural network to learn an encoding of a face image.\n",
    "- The same encoding can be used for verification and recognition. Measuring distances between two images' encodings allows you to determine whether they are pictures of the same person. "
   ]
  },
  {
   "cell_type": "markdown",
   "metadata": {},
   "source": [
    "Congrats on finishing this assignment! \n"
   ]
  },
  {
   "cell_type": "markdown",
   "metadata": {},
   "source": [
    "### References:\n",
    "\n",
    "- Florian Schroff, Dmitry Kalenichenko, James Philbin (2015). [FaceNet: A Unified Embedding for Face Recognition and Clustering](https://arxiv.org/pdf/1503.03832.pdf)\n",
    "- Yaniv Taigman, Ming Yang, Marc'Aurelio Ranzato, Lior Wolf (2014). [DeepFace: Closing the gap to human-level performance in face verification](https://research.fb.com/wp-content/uploads/2016/11/deepface-closing-the-gap-to-human-level-performance-in-face-verification.pdf) \n",
    "- The pretrained model we use is inspired by Victor Sy Wang's implementation and was loaded using his code: https://github.com/iwantooxxoox/Keras-OpenFace.\n",
    "- Our implementation also took a lot of inspiration from the official FaceNet github repository: https://github.com/davidsandberg/facenet \n"
   ]
  }
 ],
 "metadata": {
  "coursera": {
   "course_slug": "convolutional-neural-networks",
   "graded_item_id": "IaknP",
   "launcher_item_id": "5UMr4"
  },
  "kernelspec": {
   "display_name": "Python 3",
   "language": "python",
   "name": "python3"
  },
  "language_info": {
   "codemirror_mode": {
    "name": "ipython",
    "version": 3
   },
   "file_extension": ".py",
   "mimetype": "text/x-python",
   "name": "python",
   "nbconvert_exporter": "python",
   "pygments_lexer": "ipython3",
   "version": "3.6.0"
  }
 },
 "nbformat": 4,
 "nbformat_minor": 2
}
